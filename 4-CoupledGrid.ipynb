{
 "cells": [
  {
   "cell_type": "code",
   "execution_count": 37,
   "metadata": {},
   "outputs": [],
   "source": [
    "#=\n",
    "Consider the following system of four coupled pendula. \n",
    "\n",
    "  +--------+--------+\n",
    "  |                 |\n",
    "  +---||---+---||---+\n",
    "      lₐ       lₐ   \n",
    "      ||       ||   \n",
    "      m₁--k₁₃--m₃\n",
    "      ||       ||\n",
    "      lᵦ       lᵦ\n",
    "      ||       ||\n",
    "      m₂--k₂₄--m₄\n",
    "\n",
    "Where: \n",
    "m₁, m₂, m₃, m₄:  the masses of the pendula\n",
    "k₁₃: spring constant of the spring connecting m1 and m3 (top masses)\n",
    "k₂₄: spring constant of the spring connecting m2 and m4 (bottom masses)\n",
    "lₐ: length of the pendula connecting the top masses to the block\n",
    "lᵦ: length of the pendula connecting the top masses to the bottom masses\n",
    "=#"
   ]
  },
  {
   "attachments": {},
   "cell_type": "markdown",
   "metadata": {},
   "source": [
    "The matrix A that satisfies the eigenvalue equation A $|e \\rangle = \\omega^2 |e \\rangle$ is given by \n",
    "$$\n",
    "A = \\left[\n",
    "\\begin{array}{cccc}\n",
    "\\displaystyle \\omega_A^2 & \\displaystyle -\\frac{k_{12}}{m_1} & \\displaystyle -\\frac{k_{13}}{m_1} & \\displaystyle -\\frac{k_{14}}{m_1} \\\\\n",
    "\\displaystyle -\\frac{k_{12}}{m_2} & \\displaystyle \\omega_B^2 & \\displaystyle -\\frac{k_{23}}{m_2} & \\displaystyle -\\frac{k_{24}}{m_2} \\\\\n",
    "\\displaystyle -\\frac{k_{13}}{m_3} & \\displaystyle -\\frac{k_{23}}{m_3} & \\displaystyle \\omega_C^2 & \\displaystyle -\\frac{k_{34}}{m_3} \\\\\n",
    "\\displaystyle -\\frac{k_{14}}{m_4} & \\displaystyle -\\frac{k_{24}}{m_4} & \\displaystyle -\\frac{k_{34}}{m_4} & \\displaystyle \\omega_D^2\n",
    "\\end{array}\n",
    "\\right]\n",
    "$$\n",
    "Entires on the counterdiagonal (e.g. $-\\frac{k_{14}}{m_4}$) are 0, as springs only connected masses adjacent to one another. Non-zero off-diagonal entries represent effect spring constants (e.g. $\\frac{k_{12}}{m_1} = \\frac{m_2 g}{l_b}$). Diagonal entries represent the angular frequency of each mass if the position of other masses was held constant at equilibrium. For example, $\\omega_A$, corresponding to $m_1$, is given by $\\omega_A^2 = \\frac{k_{eff}}{m_1} = \\frac{(m_1 + m_2)g}{l_a} + \\frac{m_2 g}{m_1 l_\\beta} + \\frac{k_{13}}{m_1}$. Propogating similar substitutions throughout the matrix, \n",
    "$$\n",
    "A = \\left[\\begin{array}{cccc}\n",
    "\\frac{(m_1+m_2) g}{m_1 \\ell_a}+\\frac{m_2 g}{m_1 \\ell_\\beta}+\\frac{k_{13}}{m_1} & -\\frac{m_2 g}{m_1 \\ell_\\beta} & -\\frac{k_{13}}{m_1} & 0 \\\\\n",
    "-\\frac{g}{\\ell_\\beta} & \\frac{g}{\\ell_\\beta}+\\frac{k_{24}}{m_2} & 0 & -\\frac{k_{24}}{m_2} \\\\\n",
    "-\\frac{k_{13}}{m_3} & 0 & \\frac{(m_3+m_4) g}{m_3 \\ell_a}+\\frac{m_4 g}{m_3 \\ell_\\beta}+\\frac{k_{13}}{m_3} & -\\frac{m_4 g}{m_3 \\ell_\\beta} \\\\\n",
    "0 & -\\frac{k_{24}}{m_4} & -\\frac{g}{\\ell_\\beta} & \\frac{g}{\\ell_\\beta}+\\frac{k_{24}}{m_4}\n",
    "\\end{array}\\right]\n",
    "$$"
   ]
  },
  {
   "cell_type": "code",
   "execution_count": 24,
   "metadata": {},
   "outputs": [
    {
     "data": {
      "text/plain": [
       "4×4 Matrix{Float64}:\n",
       " 43.0  -10.0  -3.0   0.0\n",
       " -5.0    8.0   0.0  -3.0\n",
       " -1.0    0.0  31.0  -6.66667\n",
       "  0.0   -1.5  -5.0   6.5"
      ]
     },
     "metadata": {},
     "output_type": "display_data"
    },
    {
     "name": "stdout",
     "output_type": "stream",
     "text": [
      "Eigenvalue: 3.696\n",
      "Eigenvector: [0.189, 0.691, 0.172, 0.676]\n",
      "\n",
      "Eigenvalue: 8.136\n",
      "Eigenvector: [-0.237, -0.861, 0.116, 0.434]\n",
      "\n",
      "Eigenvalue: 32.045\n",
      "Eigenvector: [-0.237, 0.026, -0.953, 0.185]\n",
      "\n",
      "Eigenvalue: 44.622\n",
      "Eigenvector: [0.987, -0.136, -0.08, 0.016]\n",
      "\n"
     ]
    }
   ],
   "source": [
    "using LinearAlgebra\n",
    "\n",
    "m₁ = 1.0     \n",
    "m₂ = 2.0 \n",
    "m₃ = 3.0     \n",
    "m₄ = 4.0     \n",
    "g = 10.0     \n",
    "lₐ = 1.0    \n",
    "lᵦ = 2.0  \n",
    "k₁₃ = 3.0    \n",
    "k₂₄ = 6.0   \n",
    "\n",
    "A11 = ((m₁ + m₂) * g) / (m₁ * lₐ) + (m₂ * g) / (m₁ * lᵦ) + k₁₃ / m₁\n",
    "A12 = -m₂ * g / (m₁ * lᵦ)\n",
    "A13 = -k₁₃ / m₁\n",
    "A14 = 0\n",
    "\n",
    "A21 = -g / lᵦ\n",
    "A22 = (g / lᵦ) + k₂₄ / m₂\n",
    "A23 = 0\n",
    "A24 = -k₂₄ / m₂\n",
    "\n",
    "A31 = -k₁₃ / m₃\n",
    "A32 = 0\n",
    "A33 = ((m₃ + m₄) * g) / (m₃ * lₐ) + (m₄ * g) / (m₃ * lᵦ) + k₁₃ / m₃\n",
    "A34 = -m₄ * g / (m₃ * lᵦ)\n",
    "\n",
    "A41 = 0\n",
    "A42 = -k₂₄ / m₄\n",
    "A43 = -g / lᵦ\n",
    "A44 = (g / lᵦ) + k₂₄ / m₄\n",
    "\n",
    "A = [A11 A12 A13 A14; \n",
    "     A21 A22 A23 A24; \n",
    "     A31 A32 A33 A34; \n",
    "     A41 A42 A43 A44]\n",
    "\n",
    "display(A)\n",
    "\n",
    "eigenvalues, eigenvectors = eigen(A)\n",
    "for i in 1:4\n",
    "     println(\"Eigenvalue: \", round(eigenvalues[i], digits = 3))\n",
    "     println(\"Eigenvector: \", round.(eigenvectors[:, i], digits = 3))\n",
    "     println()\n",
    " end"
   ]
  }
 ],
 "metadata": {
  "kernelspec": {
   "display_name": "Julia 1.8.5",
   "language": "julia",
   "name": "julia-1.8"
  },
  "language_info": {
   "file_extension": ".jl",
   "mimetype": "application/julia",
   "name": "julia",
   "version": "1.8.5"
  },
  "orig_nbformat": 4
 },
 "nbformat": 4,
 "nbformat_minor": 2
}
