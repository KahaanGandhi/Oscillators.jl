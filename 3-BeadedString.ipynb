{
 "cells": [
  {
   "attachments": {},
   "cell_type": "markdown",
   "metadata": {},
   "source": [
    "Consider a string of length $L$ stretched to tension $T$, carrying $N$ beads of mass $m$, each equally spaced distance $a$ apart.\n",
    "\n",
    "$$\n",
    "\\begin{align*}\n",
    "& \\quad\\quad \\quad \\quad\\;\\; \\longleftarrow  a \\longrightarrow \\\\\n",
    "& \\quad \\quad \\quad \\quad \\quad y_1 \\quad\\quad \\; y_2 \\quad \\quad \\quad \\quad \\quad \\quad y_N \\\\\n",
    "& \\quad\\quad\\quad\\quad \\;\\;\\; \\uparrow \\quad \\;\\;\\; \\quad\\uparrow \\quad \\quad \\quad \\quad \\; \\quad \\quad \\uparrow \\\\\n",
    "& \\boxed{\\phantom{aaaa}} == m_1  ==  m_2  ==  \\cdots == m_N == \\boxed{\\phantom{aaaa}} \\\\\n",
    "& \\quad \\quad \\;\\;\\;  <------ L ------>\n",
    "\\end{align*}\n",
    "$$\n",
    "\n",
    "Compiling various index and variable defintions to avoid confusion, \n",
    "$$\n",
    "\\begin{array}{llcll}\n",
    "j & \\text{mass index (1,2,3$\\cdots$N)} & & \\omega_A & \\sqrt{\\frac{2T}{ma}} \\\\\n",
    "n & \\text{mode index (1,2,3$\\cdots$N)} & & L & \\text{string length} \\\\\n",
    "N & \\text{number of total beads} & & T & \\text{tension on string} \\\\\n",
    "\\omega_n & \\text{angular frequency of mode n} & & m & \\text{bead mass} \\\\\n",
    "Y_j & \\text{amplitude of bead } j & & a & \\text{seperation between beads} \\\\\n",
    "\\end{array}\n",
    "$$\n",
    "\n",
    "Both ends are fixed, so $y_0 = y_{N+1} = 0$. Assuming small vertical displacements of each bead relative to its neighbors ($y_j - y_{j-1} << a$), we use Newton's second law to get the equation of motion for the $j^{th}$ bead (isomorphic to a system of identical masses coupled by identical springs in `N-CoupledChain.ipynb`):\n",
    "$$\n",
    "\\sum F_y = m\\ddot{y_j} = -\\frac{T}{a}(y_j - y_{j-1} + y_j - y_{j+1})  \\Longrightarrow \\ddot{y_j} = -\\frac{T}{ma}(-y_{j-1}  + 2 y_j - y_{j+1})\n",
    "$$\n"
   ]
  },
  {
   "attachments": {},
   "cell_type": "markdown",
   "metadata": {},
   "source": [
    "This leads to a system of N coupled differential equations, and the solution takes the form\n",
    "$$\n",
    "|y(t)\\rangle = \\begin{bmatrix} y_1(t) \\\\ y_2(t) \\\\ \\vdots \\end{bmatrix} = \\text{Re} \\left[ \\sum_{n=1}^N C_n e^{i \\omega_n t} |e_n\\rangle\\right] ,\\text{ where } |e_n\\rangle = A_n\\begin{bmatrix} \\sin k_n x_1  \\\\ \\sin k_n x_2  \\\\ \\vdots \\end{bmatrix}\n",
    "$$\n",
    "Normalizing, \n",
    "$$\n",
    "\\langle e_n | e_n \\rangle = 1 \\Longrightarrow A_n^* \\begin{bmatrix} \\sin k_n x_1  & \\sin k_n x_2  & \\cdots \\end{bmatrix}A_n \\begin{bmatrix} \\sin k_n x_1  \\\\ \\sin k_n x_2  \\\\ \\vdots \\end{bmatrix} = 1 \\Longrightarrow |A_n|^2 = \\frac{1}{\\sum_{j=1}^N \\sin^2 k_n x_j} = \\frac{1}{\\frac{N+1}{2}} \n",
    "$$\n",
    "As $A_n ∈ \\mathbb{R}$, \n",
    "$$\n",
    "A_n = \\sqrt{\\frac{2}{N+1}} \\Longrightarrow |e_n\\rangle = \\sqrt{\\frac{2}{N+1}}\\begin{bmatrix} \\sin(k_n x_1) \\\\ \\sin(k_n x_2) \\\\ \\vdots \\end{bmatrix}\n",
    "$$\n",
    "As for the other components, \n",
    "\n",
    "$$\n",
    "\\begin{array}{llcll}\n",
    "\\text{Re} C_n & \\langle e_n | y_0 \\rangle & & \\omega_n & \\sqrt{2} \\omega_A \\sin \\left( \\frac{n \\pi a}{2L}\\right) \\\\\n",
    "\\text{Im} C_n & \\frac{-1}{\\omega_n} \\langle e_n | \\dot{y_0} \\rangle & & \\omega_A  & \\sqrt{\\frac{2T}{ma}} \\\\\n",
    "C_n & \\text{Re} C_n + i\\text{Im} C_n & & k_n & \\frac{n\\pi}{L} \n",
    "\\end{array}\n",
    "$$\n",
    "Before generalizing to N beads, we implement these equations for a 3 bead system:\n"
   ]
  },
  {
   "cell_type": "code",
   "execution_count": 11,
   "metadata": {},
   "outputs": [
    {
     "name": "stderr",
     "output_type": "stream",
     "text": [
      "\u001b[32m\u001b[1m    Updating\u001b[22m\u001b[39m registry at `~/.julia/registries/General.toml`\n"
     ]
    },
    {
     "name": "stderr",
     "output_type": "stream",
     "text": [
      "\u001b[32m\u001b[1m   Resolving\u001b[22m\u001b[39m package versions...\n"
     ]
    },
    {
     "name": "stderr",
     "output_type": "stream",
     "text": [
      "\u001b[32m\u001b[1m  No Changes\u001b[22m\u001b[39m to `~/.julia/environments/v1.8/Project.toml`\n",
      "\u001b[32m\u001b[1m  No Changes\u001b[22m\u001b[39m to `~/.julia/environments/v1.8/Manifest.toml`\n"
     ]
    }
   ],
   "source": [
    "import Pkg; Pkg.add(\"SymPy\")"
   ]
  },
  {
   "cell_type": "code",
   "execution_count": 10,
   "metadata": {},
   "outputs": [
    {
     "name": "stdout",
     "output_type": "stream",
     "text": [
      "y₁(t) = 0.707 cos(7.654t + 1.0) + 2.0 cos(14.142t + 2.0) + 2.121 cos(18.478t + 3.0)\n",
      "y₂(t) = 1.0 cos(7.654t + 1.0) + 0.0 cos(14.142t + 2.0) + -3.0 cos(18.478t + 3.0)\n",
      "y₃(t) = 0.707 cos(7.654t + 1.0) + -2.0 cos(14.142t + 2.0) + 2.121 cos(18.478t + 3.0)\n",
      "\n",
      "At t(0),\n",
      "y₁(0): -2.55033\n",
      "y₂(0): 3.51028\n"
     ]
    },
    {
     "name": "stdout",
     "output_type": "stream",
     "text": [
      "y₃(0): -0.885746\n",
      "These calculated values are identical to the given initial positions.\n"
     ]
    }
   ],
   "source": [
    "using LinearAlgebra\n",
    "using SymPy\n",
    "\n",
    "@vars t real=true\n",
    "\n",
    "t = 0\n",
    "N = 3\n",
    "m = 1\n",
    "a = 1\n",
    "T = 100 \n",
    "y₀ = [-2.55033, 3.51028, -0.885746]\n",
    "v₀ = [-35.8043, 1.38233, 15.6333]\n",
    "\n",
    "L = (N + 1) * a                          \n",
    "ωₐ = √((2 * T) / (m * a))                \n",
    "Aₙ = √(2 / (N + 1))                         \n",
    "\n",
    "k₁ = 1 * π / L;  x₁ = 1 * a;  ω₁ = √2 * ωₐ * sin(1 * π * a / (2 * L))                            \n",
    "k₂ = 2 * π / L;  x₂ = 2 * a;  ω₂ = √2 * ωₐ * sin(2 * π * a / (2 * L))                      \n",
    "k₃ = 3 * π / L;  x₃ = 3 * a;  ω₃ = √2 * ωₐ * sin(3 * π * a / (2 * L))                          \n",
    " \n",
    "e₁₁ = Aₙ * sin(k₁ * x₁);  e₂₁ = Aₙ * sin(k₂ * x₁);  e₃₁ = Aₙ * sin(k₃ * x₁)\n",
    "e₁₂ = Aₙ * sin(k₁ * x₂);  e₂₂ = Aₙ * sin(k₂ * x₂);  e₃₂ = Aₙ * sin(k₃ * x₂)\n",
    "e₁₃ = Aₙ * sin(k₁ * x₃);  e₂₃ = Aₙ * sin(k₂ * x₃);  e₃₃ = Aₙ * sin(k₃ * x₃)\n",
    "\n",
    "e = [e₁₁ e₂₁ e₃₁\n",
    "     e₁₂ e₂₂ e₃₂\n",
    "     e₁₃ e₂₃ e₃₃]\n",
    "\n",
    "e₁ = e[:,1]; e₂ = e[:,2];  e₃ = e[:,3]\n",
    "\n",
    "ReC₁ = dot(e₁, y₀);  ImC₁ = (-1 / ω₁) * dot(e₁, v₀) \n",
    "ReC₂ = dot(e₂, y₀);  ImC₂ = (-1 / ω₂) * dot(e₂, v₀)\n",
    "ReC₃ = dot(e₃, y₀);  ImC₃ = (-1 / ω₃) * dot(e₃, v₀)\n",
    "\n",
    "A₁ = √(ReC₁^2 + ImC₁^2);  ϕ₁ = atan(ImC₁, ReC₁)   \n",
    "A₂ = √(ReC₂^2 + ImC₂^2);  ϕ₂ = atan(ImC₂, ReC₂)\n",
    "A₃ = √(ReC₃^2 + ImC₃^2);  ϕ₃ = atan(ImC₃, ReC₃)\n",
    "\n",
    "☐ = 3\n",
    "A = round(A₁ * e[1,1], digits = ☐);  B = round(A₂ * e[1,2], digits = ☐);  C = round(A₃ * e[1,3], digits = ☐)\n",
    "D = round(A₁ * e[2,1], digits = ☐);  E = round(A₂ * e[2,2], digits = ☐);  F = round(A₃ * e[2,3], digits = ☐)\n",
    "G = round(A₁ * e[3,1], digits = ☐);  H = round(A₂ * e[3,2], digits = ☐);  I = round(A₃ * e[3,3], digits = ☐)\n",
    "\n",
    "ω1 = round(ω₁, digits = ☐);  ϕ1 = round(ϕ₁, digits = ☐)\n",
    "ω2 = round(ω₂, digits = ☐);  ϕ2 = round(ϕ₂, digits = ☐)\n",
    "ω3 = round(ω₃, digits = ☐);  ϕ3 = round(ϕ₃, digits = ☐)\n",
    "\n",
    "println(\"y₁(t) = \", A, \" cos(\", ω1, \"t + \", ϕ1, \") + \", B, \" cos(\", ω2, \"t + \", ϕ2, \") + \", C, \" cos(\", ω3, \"t + \", ϕ3, \")\")\n",
    "println(\"y₂(t) = \", D, \" cos(\", ω1, \"t + \", ϕ1, \") + \", E, \" cos(\", ω2, \"t + \", ϕ2, \") + \", F, \" cos(\", ω3, \"t + \", ϕ3, \")\")\n",
    "println(\"y₃(t) = \", G, \" cos(\", ω1, \"t + \", ϕ1, \") + \", H, \" cos(\", ω2, \"t + \", ϕ2, \") + \", I, \" cos(\", ω3, \"t + \", ϕ3, \")\")\n",
    "\n",
    "\n",
    "y₁(t) = A₁ * e[1,1] * cos(ω₁ * t + ϕ₁) + A₂ * e[1,2] * cos(ω₂ * t + ϕ₂) + A₃ * e[1,3] * cos(ω₃ * t + ϕ₃)\n",
    "y₂(t) = A₁ * e[2,1] * cos(ω₁ * t + ϕ₁) + A₂ * e[2,2] * cos(ω₂ * t + ϕ₂) + A₃ * e[2,3] * cos(ω₃ * t + ϕ₃)\n",
    "y₃(t) = A₁ * e[3,1] * cos(ω₁ * t + ϕ₁) + A₂ * e[3,2] * cos(ω₂ * t + ϕ₂) + A₃ * e[3,3] * cos(ω₃ * t + ϕ₃)\n",
    "\n",
    "☾ = 6\n",
    "println(\"\\nAt t(\",t,\"),\")\n",
    "println(\"y₁(0): \", round(y₁(t), digits = ☾))\n",
    "println(\"y₂(0): \", round(y₂(t), digits = ☾))\n",
    "println(\"y₃(0): \", round(y₃(t), digits = ☾))\n",
    "println(\"These calculated values are identical to the given initial positions.\")"
   ]
  }
 ],
 "metadata": {
  "kernelspec": {
   "display_name": "Julia 1.8.5",
   "language": "julia",
   "name": "julia-1.8"
  },
  "language_info": {
   "file_extension": ".jl",
   "mimetype": "application/julia",
   "name": "julia",
   "version": "1.8.5"
  },
  "orig_nbformat": 4
 },
 "nbformat": 4,
 "nbformat_minor": 2
}
