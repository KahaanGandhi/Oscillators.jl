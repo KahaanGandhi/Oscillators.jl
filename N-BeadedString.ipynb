{
 "cells": [
  {
   "cell_type": "code",
   "execution_count": 48,
   "metadata": {},
   "outputs": [
    {
     "data": {
      "text/latex": [
       "$\\left[ \\begin{array}{r}1.6440722527881 e^{16.2334312009271 t} + 3.02494542519228 e^{29.9954696579333 t} - 1.46514486047782 e^{39.1909697691288 t}\\\\2.32506927741422 e^{16.2334312009271 t} + 3.70448973255716 \\cdot 10^{-16} e^{29.9954696579333 t} + 2.07202773252897 e^{39.1909697691288 t}\\\\1.6440722527881 e^{16.2334312009271 t} - 3.02494542519228 e^{29.9954696579333 t} - 1.46514486047782 e^{39.1909697691288 t}\\end{array} \\right]$\n"
      ],
      "text/plain": [
       "3-element Vector{Sym}:\n",
       "      1.6440722527881*exp(16.2334312009271*t) + 3.02494542519228*exp(29.9954696579333*t) - 1.46514486047782*exp(39.1909697691288*t)\n",
       " 2.32506927741422*exp(16.2334312009271*t) + 3.70448973255716e-16*exp(29.9954696579333*t) + 2.07202773252897*exp(39.1909697691288*t)\n",
       "      1.6440722527881*exp(16.2334312009271*t) - 3.02494542519228*exp(29.9954696579333*t) - 1.46514486047782*exp(39.1909697691288*t)"
      ]
     },
     "metadata": {},
     "output_type": "display_data"
    }
   ],
   "source": [
    "using LinearAlgebra\n",
    "using SymPy\n",
    "using Plots\n",
    "\n",
    "N = 3\n",
    "y₀ = [-2.55033, 3.51028, -0.885746]\n",
    "v₀ = [-35.8043, 1.38233, 15.6333]\n",
    "m = 1\n",
    "a = 1\n",
    "T = 100\n",
    "\n",
    "@vars t real=true\n",
    "L = (N + 1) * a\n",
    "ωₐ = √((2 * T) / (m * a))\n",
    "\n",
    "kₙ(n) = n * π / L\n",
    "ωₙ(n) = √2 * ωₐ * sin((n * π * a) / (2 * L))\n",
    "eₙ(n, xⱼ) = √(2 / (N + 1)) * sin(kₙ(n) * xⱼ)\n",
    "\n",
    "function Cₙ(n)\n",
    "    en = [eₙ(n, (i + 1) * a) for i in 1:N]    # check i vs. i+1\n",
    "    Re_Cₙ = dot(en, y₀)\n",
    "    Im_Cₙ = (-1/ωₙ(n)) * dot(en, v₀)\n",
    "    return Re_Cₙ + I * Im_Cₙ                  \n",
    "end\n",
    "\n",
    "yₜ = simplify(sum(Cₙ(n) * exp(I * ωₙ(n) * t) * eₙ(n, (i + 1) * a) for n in 1:N) for i in 1:N) # check i vs. i+1\n",
    "Re_yₜ = [simplify(real(yi)) for yi in yₜ]\n",
    "Re_yₜ\n",
    "\n",
    "using LinearAlgebra\n",
    "using SymPy\n",
    "using Plots\n",
    "\n",
    "N = 3\n",
    "y₀ = [-2.55033, 3.51028, -0.885746]\n",
    "v₀ = [-35.8043, 1.38233, 15.6333]\n",
    "m = 1\n",
    "a = 1\n",
    "T = 100\n",
    "\n",
    "@vars t real=true\n",
    "L = (N + 1) * a\n",
    "ωₐ = √((2 * T) / (m * a))\n",
    "\n",
    "kₙ(n) = n * π / L\n",
    "ωₙ(n) = √2 * ωₐ * sin((n * π * a) / (2 * L))\n",
    "eₙ(n, xⱼ) = √(2 / (N + 1)) * sin(kₙ(n) * xⱼ)\n",
    "\n",
    "function Cₙ(n)\n",
    "    en = [eₙ(n, (i) * a) for i in 1:N]    # check i vs. i+1\n",
    "    Re_Cₙ = dot(en, y₀)\n",
    "    Im_Cₙ = (-1/ωₙ(n)) * dot(en, v₀)\n",
    "    return Re_Cₙ + I * Im_Cₙ                  \n",
    "end\n",
    "\n",
    "yₜ = simplify(sum(Cₙ(n) * exp(I * ωₙ(n) * t) * eₙ(n, (i) * a) for n in 1:N) for i in 1:N) # check i vs. i+1\n",
    "Re_yₜ = [simplify(real(yi)) for yi in yₜ]\n",
    "Re_yₜ"
   ]
  },
  {
   "cell_type": "code",
   "execution_count": null,
   "metadata": {},
   "outputs": [],
   "source": []
  }
 ],
 "metadata": {
  "kernelspec": {
   "display_name": "Julia 1.8.5",
   "language": "julia",
   "name": "julia-1.8"
  },
  "language_info": {
   "file_extension": ".jl",
   "mimetype": "application/julia",
   "name": "julia",
   "version": "1.8.5"
  },
  "orig_nbformat": 4
 },
 "nbformat": 4,
 "nbformat_minor": 2
}
