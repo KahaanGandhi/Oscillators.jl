{
 "cells": [
  {
   "attachments": {},
   "cell_type": "markdown",
   "metadata": {},
   "source": [
    "Consider a string of length $L$ stretched to tension $T$, carrying $N$ beads of mass $m$, each equally spaced distance $a$ apart.\n",
    "\n",
    "$$\n",
    "\\begin{align*}\n",
    "& \\quad\\quad \\quad \\quad\\;\\; \\longleftarrow  a \\longrightarrow \\\\\n",
    "& \\quad \\quad \\quad \\quad \\quad y_1 \\quad\\quad \\; y_2 \\quad \\quad \\quad \\quad \\quad \\quad y_N \\\\\n",
    "& \\quad\\quad\\quad\\quad \\;\\;\\; \\uparrow \\quad \\;\\;\\; \\quad\\uparrow \\quad \\quad \\quad \\quad \\; \\quad \\quad \\uparrow \\\\\n",
    "& \\boxed{\\phantom{aaaa}} == m_1  ==  m_2  ==  \\cdots == m_N == \\boxed{\\phantom{aaaa}} \\\\\n",
    "& \\quad \\quad \\;\\;\\;  <------ L ------>\n",
    "\\end{align*}\n",
    "$$\n",
    "\n",
    "Compiling various index and variable defintions to avoid confusion, \n",
    "$$\n",
    "\\begin{array}{llcll}\n",
    "j & \\text{mass index (1,2,3$\\cdots$N)} & & \\omega_A & \\sqrt{\\frac{2T}{ma}} \\\\\n",
    "n & \\text{mode index (1,2,3$\\cdots$N)} & & L & \\text{string length} \\\\\n",
    "N & \\text{number of total beads} & & T & \\text{tension on string} \\\\\n",
    "\\omega_n & \\text{angular frequency of mode n} & & m & \\text{bead mass} \\\\\n",
    "Y_j & \\text{amplitude of bead } j & & a & \\text{seperation between beads} \\\\\n",
    "\\end{array}\n",
    "$$\n",
    "\n",
    "Both ends are fixed, so $y_0 = y_{N+1} = 0$. Assuming small vertical displacements of each bead relative to its neighbors ($y_j - y_{j-1} << a$), we use Newton's second law to get the equation of motion for the $j^{th}$ bead (isomorphic to a system of identical masses coupled by identical springs in `N-CoupledChain.ipynb`):\n",
    "$$\n",
    "\\sum F_y = m\\ddot{y_j} = -\\frac{T}{a}(y_j - y_{j-1} + y_j - y_{j+1})  \\Longrightarrow \\ddot{y_j} = -\\frac{T}{ma}(-y_{j-1}  + 2 y_j - y_{j+1})\n",
    "$$\n"
   ]
  },
  {
   "attachments": {},
   "cell_type": "markdown",
   "metadata": {},
   "source": [
    "This leads to a system of N coupled differential equations, and the solution takes the form\n",
    "$$\n",
    "|y(t)\\rangle = \\begin{bmatrix} y_1(t) \\\\ y_2(t) \\\\ \\vdots \\end{bmatrix} = \\text{Re} \\left[ \\sum_{n=1}^N C_n e^{i \\omega_n t} |e_n\\rangle\\right] ,\\text{ where } |e_n\\rangle = A_n\\begin{bmatrix} \\sin k_n x_1  \\\\ \\sin k_n x_2  \\\\ \\vdots \\end{bmatrix}\n",
    "$$\n",
    "Normalizing, \n",
    "$$\n",
    "\\langle e_n | e_n \\rangle = 1 \\Longrightarrow A_n^* \\begin{bmatrix} \\sin k_n x_1  & \\sin k_n x_2  & \\cdots \\end{bmatrix}A_n \\begin{bmatrix} \\sin k_n x_1  \\\\ \\sin k_n x_2  \\\\ \\vdots \\end{bmatrix} = 1 \\Longrightarrow |A_n|^2 = \\frac{1}{\\sum_{j=1}^N \\sin^2 k_n x_j} = \\frac{1}{\\frac{N+1}{2}} \n",
    "$$\n",
    "As $A_n ∈ \\R$, \n",
    "$$\n",
    "A_n = \\sqrt{\\frac{2}{N+1}} \\Longrightarrow |e_n\\rangle = \\sqrt{\\frac{2}{N+1}}\\begin{bmatrix} \\sin(k_n x_1) \\\\ \\sin(k_n x_2) \\\\ \\vdots \\end{bmatrix}\n",
    "$$\n",
    "As for the other components, \n",
    "\n",
    "$$\n",
    "\\begin{array}{llcll}\n",
    "\\text{Re} C_n & \\langle e_n | y_0 \\rangle & & \\omega_n & \\sqrt{2} \\omega_A \\sin \\left( \\frac{n \\pi a}{2L}\\right) \\\\\n",
    "\\text{Im} C_n & \\frac{-1}{\\omega_n} \\langle e_n | \\dot{y_0} \\rangle & & \\omega_A  & \\sqrt{\\frac{2T}{ma}} \\\\\n",
    "C_n & \\text{Re} C_n + i\\text{Im} C_n & & k_n & \\frac{n\\pi}{L} \n",
    "\\end{array}\n",
    "$$\n",
    "Before generalizing to N beads, consider the following 3 bead system:\n"
   ]
  },
  {
   "cell_type": "code",
   "execution_count": 46,
   "metadata": {},
   "outputs": [
    {
     "name": "stdout",
     "output_type": "stream",
     "text": [
      "0.764104791863514\n"
     ]
    }
   ],
   "source": [
    "using LinearAlgebra\n",
    "\n",
    "N = 3\n",
    "m = 1\n",
    "a = 1\n",
    "T = 100 \n",
    "y₀ = [-2.55033, 3.51028, -0.885746]\n",
    "v₀ = [-35.8043, 1.38233, 15.6333]\n",
    "\n",
    "L = (N + 1) * a                          # 4\n",
    "ωₐ = √((2 * T) / (m * a))                # 14.14\n",
    "Aₙ = √(2/(N+1))                          # 0.707\n",
    "\n",
    "k₁ = 1 * π / L                           # 0.786\n",
    "k₂ = 2 * π / L                           # 1.572\n",
    "k₃ = 3 * π / L                           # 2.356\n",
    " \n",
    "x₁ = 1 * a                               # 1\n",
    "x₂ = 2 * a                               # 2\n",
    "x₃ = 3 * a                               # 3\n",
    "\n",
    "ω₁ = √2 * ωₐ * sin(1 * π * a / (2 * L))  # 7.654\n",
    "ω₂ = √2 * ωₐ * sin(2 * π * a / (2 * L))  # 14.14\n",
    "ω₃ = √2 * ωₐ * sin(3 * π * a / (2 * L))  # 18.478\n",
    "\n",
    "e₁₁ = Aₙ * sin(k₁ * x₁)\n",
    "e₁₂ = Aₙ * sin(k₁ * x₂)\n",
    "e₁₃ = Aₙ * sin(k₁ * x₃)\n",
    "\n",
    "e₂₁ = Aₙ * sin(k₂ * x₁)\n",
    "e₂₂ = Aₙ * sin(k₂ * x₂)                  # 0\n",
    "e₂₃ = Aₙ * sin(k₂ * x₃) \n",
    "\n",
    "e₃₁ = Aₙ * sin(k₃ * x₁)\n",
    "e₃₂ = Aₙ * sin(k₃ * x₂)\n",
    "e₃₃ = Aₙ * sin(k₃ * x₃)\n",
    "\n",
    "NearZero(x) = abs(x) < 1e-12 ? 0.0 : x\n",
    "e₂₂ = NearZero(e₂₂)\n",
    "\n",
    "eigenvalues = [e₁₁ e₁₂ e₁₃\n",
    "               e₂₁ e₂₂ e₂₃\n",
    "               e₃₁ e₃₂ e₃₃]\n",
    "\n",
    "e₁ = eigenvalues[:, 1]\n",
    "e₂ = eigenvalues[:, 2]\n",
    "e₃ = eigenvalues[:, 3]\n",
    "\n",
    "ReC₁ = dot(e₁, y₀)\n",
    "ReC₂ = dot(e₂, y₀)\n",
    "ReC₃ = dot(e₃, y₀)\n",
    "\n",
    "ImC₁ = (-1 / ω₁) * dot(e₁, v₀) \n",
    "ImC₂ = (-1 / ω₂) * dot(e₂, v₀)\n",
    "ImC₃ = (-1 / ω₃) * dot(e₃, v₀)\n",
    "\n",
    "println(ReC₁)"
   ]
  },
  {
   "cell_type": "code",
   "execution_count": 59,
   "metadata": {},
   "outputs": [
    {
     "name": "stderr",
     "output_type": "stream",
     "text": [
      "\u001b[32m\u001b[1m   Resolving\u001b[22m\u001b[39m package versions...\n"
     ]
    },
    {
     "name": "stderr",
     "output_type": "stream",
     "text": [
      "\u001b[32m\u001b[1m  No Changes\u001b[22m\u001b[39m to `~/.julia/environments/v1.8/Project.toml`\n",
      "\u001b[32m\u001b[1m  No Changes\u001b[22m\u001b[39m to `~/.julia/environments/v1.8/Manifest.toml`\n"
     ]
    },
    {
     "name": "stderr",
     "output_type": "stream",
     "text": [
      "\u001b[32m\u001b[1m   Resolving\u001b[22m\u001b[39m package versions...\n"
     ]
    },
    {
     "name": "stderr",
     "output_type": "stream",
     "text": [
      "\u001b[32m\u001b[1m  No Changes\u001b[22m\u001b[39m to `~/.julia/environments/v1.8/Project.toml`\n",
      "\u001b[32m\u001b[1m  No Changes\u001b[22m\u001b[39m to `~/.julia/environments/v1.8/Manifest.toml`\n"
     ]
    }
   ],
   "source": [
    "import Pkg; Pkg.add(\"SymPy\")\n",
    "import Pkg; Pkg.add(\"Plots\")"
   ]
  },
  {
   "cell_type": "code",
   "execution_count": 46,
   "metadata": {},
   "outputs": [
    {
     "data": {
      "text/plain": [
       "3-element Vector{UniformScaling{Sym}}:\n",
       " UniformScaling{Sym}(2.2410796943891*exp(7.6536686473018*t) - 2.08957473129469e-16*exp(14.142135623731*t) - 1.52092928005547*exp(18.4775906502257*t))\n",
       " UniformScaling{Sym}(1.58468264908201*exp(7.6536686473018*t) + 1.70626725415812*exp(14.142135623731*t) + 1.0754594076324*exp(18.4775906502257*t))\n",
       " UniformScaling{Sym}(2.74453107436774e-16*exp(7.6536686473018*t) + 4.17914946258937e-16*exp(14.142135623731*t) + 5.58780352364826e-16*exp(18.4775906502257*t))"
      ]
     },
     "metadata": {},
     "output_type": "display_data"
    }
   ],
   "source": [
    "using LinearAlgebra\n",
    "using SymPy\n",
    "using Plots\n",
    "\n",
    "N = 3\n",
    "y₀ = [-2.55033, 3.51028, -0.885746]\n",
    "v₀ = [-35.8043, 1.38233, 15.6333]\n",
    "m = 1\n",
    "a = 1\n",
    "T = 100\n",
    "\n",
    "@vars t real=true\n",
    "L = (N + 1) * a\n",
    "ωₐ = √((2 * T) / (m * a))\n",
    "\n",
    "kₙ(n) = n * π / L\n",
    "ωₙ(n) = √2 * ωₐ * sin((n * π * a) / (2 * L))\n",
    "eₙ(n, xⱼ) = √(2 / (N + 1)) * sin(kₙ(n) * xⱼ)\n",
    "\n",
    "function Cₙ(n)\n",
    "    en = [eₙ(n, (i + 1) * a) for i in 1:N]    # check i vs. i+1\n",
    "    Re_Cₙ = dot(en, y₀)\n",
    "    Im_Cₙ = (-1/ωₙ(n)) * dot(en, v₀)\n",
    "    return Re_Cₙ + I * Im_Cₙ                  \n",
    "end\n",
    "\n",
    "yₜ = simplify(sum(Cₙ(n) * exp(I * ωₙ(n) * t) * eₙ(n, (i + 1) * a) for n in 1:N) for i in 1:N) # check i vs. i+1\n",
    "Re_yₜ = [simplify(real(yi)) for yi in yₜ]\n",
    "Re_yₜ"
   ]
  },
  {
   "cell_type": "code",
   "execution_count": 58,
   "metadata": {},
   "outputs": [
    {
     "data": {
      "text/plain": [
       "3-element Vector{UniformScaling{Sym}}:\n",
       " UniformScaling{Sym}(0.977064115335975*exp(7.6536686473018*t) + 0.986301788398058*exp(14.142135623731*t) - 1.80072899307747*exp(18.4775906502257*t))\n",
       " UniformScaling{Sym}(1.38177732321621*exp(7.6536686473018*t) + 1.20787132815499e-16*exp(14.142135623731*t) + 2.54661536416861*exp(18.4775906502257*t))\n",
       " UniformScaling{Sym}(0.977064115335975*exp(7.6536686473018*t) - 0.986301788398058*exp(14.142135623731*t) - 1.80072899307747*exp(18.4775906502257*t))"
      ]
     },
     "metadata": {},
     "output_type": "display_data"
    }
   ],
   "source": [
    "using LinearAlgebra\n",
    "using SymPy\n",
    "using Plots\n",
    "\n",
    "N = 3\n",
    "y₀ = [-2.55033, 3.51028, -0.885746]\n",
    "v₀ = [-35.8043, 1.38233, 15.6333]\n",
    "m = 1\n",
    "a = 1\n",
    "T = 100\n",
    "\n",
    "@vars t real=true\n",
    "L = (N + 1) * a\n",
    "ωₐ = √((2 * T) / (m * a))\n",
    "\n",
    "kₙ(n) = n * π / L\n",
    "ωₙ(n) = √2 * ωₐ * sin((n * π * a) / (2 * L))\n",
    "eₙ(n, xⱼ) = √(2 / (N + 1)) * sin(kₙ(n) * xⱼ)\n",
    "\n",
    "function Cₙ(n)\n",
    "    en = [eₙ(n, (i) * a) for i in 1:N]    # check i vs. i+1\n",
    "    Re_Cₙ = dot(en, y₀)\n",
    "    Im_Cₙ = (-1/ωₙ(n)) * dot(en, v₀)\n",
    "    return Re_Cₙ + I * Im_Cₙ                  \n",
    "end\n",
    "\n",
    "yₜ = simplify(sum(Cₙ(n) * exp(I * ωₙ(n) * t) * eₙ(n, (i) * a) for n in 1:N) for i in 1:N) # check i vs. i+1\n",
    "Re_yₜ = [simplify(real(yi)) for yi in yₜ]\n",
    "Re_yₜ"
   ]
  },
  {
   "cell_type": "code",
   "execution_count": null,
   "metadata": {},
   "outputs": [],
   "source": []
  }
 ],
 "metadata": {
  "kernelspec": {
   "display_name": "Julia 1.8.5",
   "language": "julia",
   "name": "julia-1.8"
  },
  "language_info": {
   "file_extension": ".jl",
   "mimetype": "application/julia",
   "name": "julia",
   "version": "1.8.5"
  },
  "orig_nbformat": 4
 },
 "nbformat": 4,
 "nbformat_minor": 2
}
