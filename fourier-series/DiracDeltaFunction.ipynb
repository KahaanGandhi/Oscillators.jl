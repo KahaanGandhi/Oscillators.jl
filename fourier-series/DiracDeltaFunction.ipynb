{
 "cells": [
  {
   "attachments": {},
   "cell_type": "markdown",
   "metadata": {},
   "source": [
    "### Motivating Dirac delta function with Kronecker delta function\n",
    "\n",
    "The Kronecker delta function $\\delta_{ij} \\equiv  \\begin{cases} 0 & \\text{for } i \\neq j \\\\ 1 & \\text{for } i = j \\end{cases}$ has a \"sifting property.\" For a function $f$ and $m \\isin \\Z$, $\\sum_{n = -\\infty}^\\infty f(n) \\delta_{mn} = f(m)$ for discrete modes, since $\\delta_{mn} = 0$ for all $n$ except $n=m$, so the only remaining term in the sum is $f(m)$.\n",
    "\n",
    "The Dirac delta function $\\delta(x-a)$ plays a similar sifting role for continuous variables or modes. The function is given by $\\delta(x-a) = \\begin{cases} 0 & \\text{for }x \\neq a \\\\ \"\\infty\" & \\text{for } x = a\\end{cases}$ where $\"\\infty\"$ is more rigorously defined later. Conceptually, the graph of the Dirac delta function as a function of $x$ will be 0 for all values of $x$  not equal to $a$. The function exhibits an infinitely large spike at $x=a$, idealized to have zero width. The area under this spike is equal to 1. Mathematically, this integral property is given by\n",
    "\n",
    "$$\n",
    "\\int_{-\\infty}^{\\infty} \\delta(x-a) \\, dx = 1 \n",
    "$$\n",
    "From this, we see the sifting property of the Dirac delta function, given by\n",
    "$$\n",
    "\\int_{-\\infty}^{\\infty} f(x) \\delta(x-a) \\, dx = f(a)\n",
    "$$\n",
    "Therefore, $\\delta(x-a)$ selects the value of $f(x)$ at the point $x=a$, sifting out the values of $f(x)$ at all other points. Let $a=0$, setting the \"kick\" at $x=0$ and all other values to 0. It may be helpful to conceptualize $\\delta(x-a)$ as a distribution, not a function. "
   ]
  },
  {
   "attachments": {},
   "cell_type": "markdown",
   "metadata": {},
   "source": [
    "### Fourier transform of the Dirac delta function"
   ]
  },
  {
   "attachments": {},
   "cell_type": "markdown",
   "metadata": {},
   "source": [
    "To find the Fourier transform of the Dirac delta function, we refer to our definition:\n",
    "\n",
    "$$\n",
    "\\overbrace{f(x)=\\frac{1}{\\sqrt{2 \\pi}} \\int_{-\\infty}^{\\infty} F(k) \\mathrm{e}^{\\mathrm{i} k x} \\mathrm{~d} k}^{\\text{Inverse Fourier transform}} \\text {, where } \\overbrace{F(k)=\\frac{1}{\\sqrt{2 \\pi}} \\int_{-\\infty}^{\\infty} f(x) \\mathrm{e}^{-\\mathrm{i} k x} \\mathrm{~d} x}^{\\text{Fourier transform}}\n",
    "$$\n",
    "$$\n",
    "F(k)=\\frac{1}{\\sqrt{2 \\pi}} \\int_{-\\infty}^{\\infty} \\delta(x-a) \\mathrm{e}^{-\\mathrm{i} k x} \\mathrm{~d} x\n",
    "$$\n",
    "Taking the case where $a=0$, we can simplify:\n",
    "$$\n",
    "F(k)=\\frac{1}{\\sqrt{2 \\pi}} \\int_{-\\infty}^{\\infty} \\delta(x) \\mathrm{e}^{-\\mathrm{i} k x} \\mathrm{~d} x\n",
    "$$\n",
    "We know from the sifting property that the integral will evaluate to $e^{-ika}$, and as $a=0$, \n",
    "$$\n",
    "F(k) = \\frac{1}{\\sqrt{2 \\pi}} e^{ik(0)} =  \\frac{1}{\\sqrt{2 \\pi}} e^{0} \n",
    "$$\n",
    "$$\n",
    "F(k) = \\frac{1}{\\sqrt{2 \\pi}}\n",
    "$$\n",
    "\n",
    "The result is a constant, meaning that the frequency spectrum of the Dirac delta function centered at 0 is constant at all frequencies (or in this context, wavenumbers), and they all have equal amplitude. This aligns with our expectations for an idealized impulse. By taking the Fourier transform of a Gaussian, one can see that Fourier synthesizing a narrow Gaussian requires a very broad range of frequencies, a conclusion that can be extended to other distribtions. To synthesize a function with a minimum timescale of $\\Delta t$, one must have Fourier components covering a range of angular frequencies on the order of $\\frac{1}{\\Delta t}$. For this infinitely narrow kick, $\\Delta t \\rightarrow 0$, so $\\frac{1}{\\Delta t} \\rightarrow \\infty$. Therefore, we expect every frequency to have an equal amplitude, since an infinite range of frequencies must contribute, and we qualitatively expect a constant.  "
   ]
  },
  {
   "attachments": {},
   "cell_type": "markdown",
   "metadata": {},
   "source": [
    "### Inverse Fourier transform of the Dirac delta function\n",
    "\n",
    "To find the inverse Fourier transform of $\\delta(k-k_0)$ for the case $k_0 = 0$, we once again refer to our definition: \n",
    "$$\n",
    "\\overbrace{f(x)=\\frac{1}{\\sqrt{2 \\pi}} \\int_{-\\infty}^{\\infty} F(k) \\mathrm{e}^{\\mathrm{i} k x} \\mathrm{~d} k}^{\\text{Inverse Fourier transform}} \\text {, where } \\overbrace{F(k)=\\frac{1}{\\sqrt{2 \\pi}} \\int_{-\\infty}^{\\infty} f(x) \\mathrm{e}^{-\\mathrm{i} k x} \\mathrm{~d} x}^{\\text{Fourier transform}}\n",
    "$$\n",
    "$$\n",
    "f(x)=\\frac{1}{\\sqrt{2 \\pi}} \\int_{-\\infty}^{\\infty} \\delta(k-k_0) \\mathrm{e}^{\\mathrm{i} k x} \\mathrm{~d} k\n",
    "$$\n",
    "Taking the case where $k_0 = 0$, \n",
    "$$\n",
    "f(x)=\\frac{1}{\\sqrt{2 \\pi}} \\int_{-\\infty}^{\\infty} \\delta(k) \\mathrm{e}^{\\mathrm{i} k x} \\mathrm{~d} k\n",
    "$$\n",
    "We know from the sifting property that the integral will evaluate to $e^{ik_0 x}$, and as $k_0 = 0$, \n",
    "$$\n",
    "f(x) = \\frac{1}{\\sqrt{2\\pi}} e^{i (0) x} = \\frac{1}{\\sqrt{2\\pi}} e^{0}\n",
    "$$\n",
    "$$\n",
    "f(x) = \\frac{1}{\\sqrt{2\\pi}}\n",
    "$$\n",
    "Now, consider the case where $k_0$ (or $a$) is not equal to 0. To find the inverse Fourier transform of $\\delta(k-k_0)$ in this case, we follow a similar process: \n",
    "$$\n",
    "f(x)=\\frac{1}{\\sqrt{2 \\pi}} \\int_{-\\infty}^{\\infty} \\delta(k-k_0) \\mathrm{e}^{\\mathrm{i} k x} \\mathrm{~d} k\n",
    "$$\n",
    "$$\n",
    "f(x)=\\frac{1}{\\sqrt{2 \\pi}} \\mathrm{e}^{\\mathrm{i} k_0 x}\n",
    "$$\n",
    "The result is now a sinusoidal wave with a constant frequency and non-zero phase shift both dictated by wavenumber $k_0$. The amplitude is constant. A single frequency component in the frequency/wavenumber domain manifests itself as a pure sinusoidal wave in the time/space domains, which aligns with our expectations. By isolating a single \"input\" frequency in one space, we also isolate its oscillatory \"output\" in the other space. "
   ]
  },
  {
   "cell_type": "markdown",
   "metadata": {},
   "source": []
  }
 ],
 "metadata": {
  "kernelspec": {
   "display_name": "Julia 1.8.5",
   "language": "julia",
   "name": "julia-1.8"
  },
  "language_info": {
   "file_extension": ".jl",
   "mimetype": "application/julia",
   "name": "julia",
   "version": "1.8.5"
  },
  "orig_nbformat": 4
 },
 "nbformat": 4,
 "nbformat_minor": 2
}
