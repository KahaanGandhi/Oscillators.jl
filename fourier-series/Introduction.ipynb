{
 "cells": [
  {
   "attachments": {},
   "cell_type": "markdown",
   "metadata": {},
   "source": [
    "In `∞-ContinuousString.ipynb`, we expressed the initial shape of a continous string at rest ($\\dot{y}(x) = 0$) as the superposition of normal modes with real amplitudes. The behavior of a  perturbed string can be complex and intimidating to analyze directly. However, we decomposed the motion into simpler compononets (normal modes). By applying Fourier's Theorem, we can mathematically express any initial shape of the string as a sum of these sine and cosine functions (the normal modes), each multiplied by specific coefficients. Fourier analysis therefore serves as a bridge between the physical behavior of a string and the mathemtical framework that describes it. Furthermore, since the string can take any shape between $x = 0$ and $x = L$, we can extent this framework to the mathemtical function $f(x)$ defined from $0$ to $L$.\n",
    "\n",
    "Fourier's Theorem states that any function $f(x)$ that is $\\lambda$-periodic (meaning $f(x+\\lambda) = f(x)$ for all $x$) and square-integrable on the interval $0 \\leq x \\leq \\lambda$ (i.e., $\\int_0^\\lambda |f(x)|^2 dx < \\infty$) can be expressed as:\n",
    "$$\n",
    "f(x) = \\frac{a_0}{2} + \\sum_{n=1}^{\\infty} \\left[ a_n \\cos\\left(\\frac{2\\pi n x}{\\lambda}\\right) + b_n \\sin\\left(\\frac{2\\pi n x}{\\lambda}\\right) \\right]\n",
    "$$\n",
    "The coefficients of these series are defined by the integrals:\n",
    "$$\n",
    "\\begin{align*}\n",
    "a_0 &= \\frac{1}{\\lambda} \\int_0^\\lambda f(x) \\, dx \\\\\n",
    "a_n &= \\frac{2}{\\lambda} \\int_0^\\lambda f(x) \\cos\\left(\\frac{2\\pi n x}{\\lambda}\\right) \\, dx \\\\\n",
    "b_n &= \\frac{2}{\\lambda} \\int_0^\\lambda f(x) \\sin\\left(\\frac{2\\pi n x}{\\lambda}\\right) \\, dx\n",
    "\\end{align*}\n",
    "$$\n",
    "$a_0$ is the average value of function $y(x)$, which we calculate by applying $f_{avg} = \\frac{1}{b-a} \\int_a^b f(x) dx$ to a single period. We can tailor this integral to the function of interest, integrating from $-\\frac{\\lambda}{2}$ to $\\frac{\\lambda}{2}$ or any other bounds representing a period. \n",
    "\n",
    "* We use Fourier cosine series for even functions ($f(x) = f(\\lambda-x)$, as $b_n = 0$ for all n\n",
    "* We use Fourier sine series for odd functions (($f(x) = -f(\\lambda-x)$), as $a_n = 0$ for all n\n",
    "* For functions neither even or odd, both the sine and cosine terms are non-zero, so we must use both.\n",
    "\n",
    "Applying this analysis to a function of $t$, we make the replacement $\\lambda \\rightarrow T$. The series becomes\n",
    "\n",
    "$$\n",
    "f(t) = \\frac{a_0}{2} + \\sum_{n=1}^{\\infty} \\left[ a_n \\cos\\left(\\frac{2\\pi n t}{T}\\right) + b_n \\sin\\left(\\frac{2\\pi n t}{T}\\right) \\right] \\begin{cases}\n",
    "a_0 &= \\frac{1}{T} \\int_0^T f(t) \\, dt  \n",
    "\\\\[5pt]\n",
    "a_n &= \\frac{2}{T} \\int_0^T f(t) \\cos\\left(\\frac{2\\pi n t}{T}\\right) \\, dt  \n",
    "\\\\[5pt]\n",
    "b_n &= \\frac{2}{T} \\int_0^T f(t) \\sin\\left(\\frac{2\\pi n t}{T}\\right) \\, dt\n",
    "\\end{cases}\n",
    "$$\n",
    "\n",
    "These series include both sines and cosines, which can be written as complex exponentials. In this form, \n",
    "\n",
    "$$\n",
    "f(x) = \\sum_{n = -\\infty}^\\infty C_n e^{i \\cdot 2 \\pi n x / \\lambda} \\text{ , where } C_n = \\frac{1}{\\lambda} \\int_0^\\lambda f(x) e^{-i \\cdot 2 \\pi n x / \\lambda}\n",
    "$$\n",
    "\n",
    "---\n",
    "\n",
    "In the limit where $\\lambda \\rightarrow \\infty$, the function is no longer periodic over a finite interval. The gaps between harmonics shrinks, so the discrete sum becomes continous interval. In this limit, the Fourier transform emerges, creating frequency spectrum. Taking this limit for functions of both x and t, \n",
    "\n",
    "$$\n",
    "f(x)=\\frac{1}{\\sqrt{2 \\pi}} \\int_{-\\infty}^{\\infty} F(k) \\mathrm{e}^{\\mathrm{i} k x} \\mathrm{~d} k \\text {, where } F(k)=\\frac{1}{\\sqrt{2 \\pi}} \\int_{-\\infty}^{\\infty} f(x) \\mathrm{e}^{-\\mathrm{i} k x} \\mathrm{~d} x\n",
    "$$\n",
    "$$\n",
    "f(t)=\\frac{1}{\\sqrt{2 \\pi}} \\int_{-\\infty}^{\\infty} F(\\omega) \\mathrm{e}^{\\mathrm{i} \\omega \\mathrm{t}} \\mathrm{d} \\omega, \\text { where } F(\\omega)=\\frac{1}{\\sqrt{2 \\pi}} \\int_{-\\infty}^{\\infty} f(t) \\mathrm{e}^{-\\mathrm{i} \\omega t} \\mathrm{~d} t\n",
    "$$\n",
    "\n",
    "The bounds of the integral now include negative frequencies, which can be conceptualized by considering the arbitrary positive angular frequency $\\omega_0$. $Y\\left(\\omega_0\\right) \\mathrm{e}^{\\mathrm{i} \\omega_0 t}+Y\\left(-\\omega_0\\right) \\mathrm{e}^{-\\mathrm{i} \\omega_0 t}$ must be real. $e^{i \\omega_0 t}$ and  $e^{-i \\omega_0 t}$ represents a unit vector with equal and opposite rotations on the complex plane, so they sum to $2 \\cos \\omega_0 t$. Adding equal and opposite phase shifs to the these terms, we see the same cancellation. Applying this to the Fourier integral of the form $Y(\\omega_0) = Ae^{i \\varphi}$ (where $Y(\\omega_0)$ is therefore $Ae^{i \\varphi}$), \n",
    "\n",
    "$$A \\mathrm{e}^{\\mathrm{i}\\left(\\omega_0 t+\\varphi\\right)}+A \\mathrm{e}^{-\\mathrm{i}\\left(\\omega_0 t+\\varphi\\right)}=2 A \\cos \\left(\\omega_0 t+\\varphi\\right)$$\n",
    "\n",
    "$$Y\\left(\\omega_0\\right) \\mathrm{e}^{\\mathrm{i} \\omega_0 t}+Y\\left(-\\omega_0\\right) \\mathrm{e}^{-\\mathrm{i} \\omega_0 t}=2 A \\cos \\left(\\omega_0 t+\\varphi\\right)$$\n",
    "\n",
    "Therefore, $Y(\\omega_0)$ and $Y(-\\omega_0)$ contribute equally to the overall oscillatory motion, and their phase relationship determines the overall phase of the system. "
   ]
  },
  {
   "cell_type": "markdown",
   "metadata": {},
   "source": []
  }
 ],
 "metadata": {
  "kernelspec": {
   "display_name": "Julia 1.8.5",
   "language": "julia",
   "name": "julia-1.8"
  },
  "language_info": {
   "file_extension": ".jl",
   "mimetype": "application/julia",
   "name": "julia",
   "version": "1.8.5"
  },
  "orig_nbformat": 4
 },
 "nbformat": 4,
 "nbformat_minor": 2
}
