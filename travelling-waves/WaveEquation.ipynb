{
 "cells": [
  {
   "attachments": {},
   "cell_type": "markdown",
   "metadata": {},
   "source": [
    "### The Wave Equation\n",
    "\n",
    "Recall that in a beaded string (`3-BeadedString.ipynb`), the bead of mass index $j$ experiences forces from its two neighboring beads, left bead $j-1$ and right bead $j+1$. Also recall tension $T$, bead mass $m$, and bead seperation $a$. We represent this coupling as \n",
    "$$\n",
    "\\ddot{y_j} = -\\frac{T}{ma}\\left(-y_{j-1} + 2y - y_{j+1}\\right)\n",
    "$$\n",
    "In the continous string (`∞-ContinuousString.ipynb`), we take the small $a$ limit, replacing our discrete function with the continous function $y(x,t)$. Simplifying notation, we simply write $y_j = y(x_j)$. We use a second-order Taylor series to approximate $y_{j-1}$ and $y_{j+1}$:\n",
    "$$\n",
    "y_{j-1} = y(x_j - a) \\approx y(x_j) - a \\left.\\frac{\\partial y}{\\partial x}\\right|_{x_j} + \\frac{a^2}{2}\\left.\\frac{\\partial^2 y}{\\partial x^2}\\right|_{x_j}\n",
    "$$\n",
    "$$\n",
    "y_{j+1} = y(x_j + a) \\approx y(x_j) + a \\left.\\frac{\\partial y}{\\partial x}\\right|_{x_j} + \\frac{a^2}{2}\\left.\\frac{\\partial^2 y}{\\partial x^2}\\right|_{x_j}\n",
    "$$"
   ]
  },
  {
   "attachments": {},
   "cell_type": "markdown",
   "metadata": {},
   "source": [
    "We define mass per unit length $\\mu = \\frac{m}{a}$, which remains constant. Subsitutitng these values into our coupling equation, \n",
    "$$\n",
    "\\ddot{y}(x_j) \\approx -\\frac{T}{ma}\\left(y(x_j) - a \\left.\\frac{\\partial y}{\\partial x}\\right|_{x_j} + \\frac{a^2}{2}\\left.\\frac{\\partial^2 y}{\\partial x^2}\\right|_{x_j} + 2y - y(x_j) + a \\left.\\frac{\\partial y}{\\partial x}\\right|_{x_j} + \\frac{a^2}{2}\\left.\\frac{\\partial^2 y}{\\partial x^2}\\right|_{x_j}\\right)\n",
    "$$\n",
    "$$\n",
    "\\ddot{y}(x_j) \\approx \\frac{Ta}{m}\\left.\\frac{\\partial^2 y}{\\partial x^2}\\right|_{x_j}\n",
    "$$\n",
    "Note that as $a \\rightarrow 0$, the above approximation becomes an exact equality. That is,  \n",
    "$$\n",
    "\\left[ \\frac{\\partial^2 y}{\\partial t^2} = \\frac{T}{\\mu}\\frac{\\partial^2 y}{\\partial x^2}\\right]_{x_j}\n",
    "$$\n",
    "Defining the speed of the travelling wave $v_p \\equiv \\sqrt{\\frac{T}{\\mu}}$, we arrive at the wave equation\n",
    "$$\n",
    "\\boxed{\n",
    "\\frac{\\partial^2 y}{\\partial t^2} = v_p^2\\frac{\\partial^2 y}{\\partial x^2}}\n",
    "$$\n",
    "Any twice-differentiable function of the form \n",
    "$$y(x,t) = y(x \\pm v_p t)$$ \n",
    "is a solution to the wave equation. An addition sign indicates a left moving wave, while a minus sign indicates a right moving wave. There is also a standing wave solution, the sum of a left-moving and right-moving wave. Whether a travelling or standing wave is produced depends on initial conditions. \n",
    "\n",
    "A sin wave of wavenumber of wavenumber $k = \\frac{2 \\pi }{\\lambda}$ and amplitude $A$ is written $A \\sin (kx)$. To make this wave travel to the right, replace $x$ with $(x - v_p t)$:\n",
    "$$\n",
    "A \\sin \\left( k (x - v_p t)\\right) = A \\sin \\left( kx - kv_p t\\right)\n",
    "$$\n",
    "Angular frequency is always given $\\omega = \\frac{2\\pi}{T}$, where the period of this wave is completed when the coefficient of $t$ completes a cycle of $2\\pi$. So, in this case, $T = \\frac{2 \\pi}{kv_p}$. Rearranging, "
   ]
  },
  {
   "attachments": {},
   "cell_type": "markdown",
   "metadata": {},
   "source": [
    "$$\n",
    "v_p = \\frac{2\\pi}{Tk} = \\frac{\\omega}{k} \\Leftrightarrow kv_p = \\omega\n",
    "$$\n",
    "So, we can express a right-moving sinusoidal wave as\n",
    "$$\n",
    "y = A \\sin(kx-\\omega t)\n",
    "$$"
   ]
  },
  {
   "attachments": {},
   "cell_type": "markdown",
   "metadata": {},
   "source": [
    "### Superposition of Waves\n",
    "\n",
    "The wave equation is a linear, second-order, homogenous differential equation, so the principle of superposition holds. That is, if $y_1 (x,t)$ and $y_2 (x,t)$ are solutions, then their sum $y_1(x,t) + y_2(x,t)$ is also a solution. We prove this: "
   ]
  },
  {
   "attachments": {},
   "cell_type": "markdown",
   "metadata": {},
   "source": [
    "$$\n",
    "\\frac{\\partial^2 y}{\\partial t^2} = v_p^2\\frac{\\partial^2 y}{\\partial x^2} \\Rightarrow \\underbrace{\\frac{\\partial^2 y}{\\partial t^2} - v_p^2\\frac{\\partial^2 y}{\\partial x^2} = 0}_{\\text{solutions satisfy this}}\n",
    "$$\n",
    "$$\n",
    "\\frac{\\partial^2 (y_1 + y_2)}{\\partial t^2} = v_p^2\\frac{\\partial^2 (y_1 + y_2)}{\\partial x^2}\n",
    "$$\n",
    "$$\n",
    "\n",
    "\\frac{\\partial^2 (y_1 + y_2)}{\\partial t^2} = \\frac{\\partial^2 y_1}{\\partial t^2} + \\frac{\\partial^2 y_2}{\\partial t^2} \\: \\: \\text{   and   }\\: \\: \\frac{\\partial^2 (y_1 + y_2)}{\\partial x^2} = \\frac{\\partial^2 y_1}{\\partial x^2} + \\frac{\\partial^2 y_2}{\\partial x^2}\n",
    "$$\n",
    "$$\n",
    "\\left( \\frac{\\partial^2 y_1}{\\partial t^2} + \\frac{\\partial^2 y_2}{\\partial t^2}\\right) = v_p^2\\left(\\frac{\\partial^2 y_1}{\\partial x^2} + \\frac{\\partial^2 y_2}{\\partial x^2} \\right)\n",
    "$$\n",
    "$$\n",
    "\\underbrace{\\left(\\frac{\\partial^2 y_1}{\\partial t^2} -  v_p^2\\frac{\\partial^2 y_1}{\\partial x^2}\\right)}_{\\text{known solution}} + \\underbrace{\\left(\n",
    "\\frac{\\partial^2 y_2}{\\partial t^2} -  v_p^2\\frac{\\partial^2 y_2}{\\partial x^2}\\right)}_{\\text{known solution}}\\ = 0\n",
    "$$\n",
    "This can be generalized to any linear linear and homogenous differential equation. Conceptually, this allows light beams to pass through one another without altering each another, and enables constructive and destructive interference. We can apply this to model standing waves. Standing waves take the general form $y = 2A \\sin(kx)\\cos(\\omega t)$. More specifically, the normal mode $n$ of a string with two fixed ends is $y = C_n \\sin(k_n x)\\cos(\\omega_n t)$. We can arrive at this form by adding two equal-amplitude waves travelling in opposite directions: \n",
    "$$\n",
    "\\underbrace{\\frac{C_n}{2}\\sin(k_n x + w_n t)}_{\\text{left moving}} + \\underbrace{\\frac{C_n}{2}\\sin(k_n x - w_n t)}_{\\text{right moving}}\n",
    "$$\n",
    "$$\n",
    "\\frac{C_n}{2}\\sin (k_n x) \\cos(w_n t) + \\frac{C_n}{2}\\cos (k_n x) \\sin(w_n t) + \\frac{C_n}{2}\\sin (k_n x) \\cos(-w_n t) + \\frac{C_n}{2}\\cos (k_n x) \\sin(-w_n t)\n",
    "$$\n",
    "$$\n",
    "\\frac{C_n}{2}\\sin (k_n x) \\cos(w_n t) + \\frac{C_n}{2}\\cos (k_n x) \\sin(w_n t) + \\frac{C_n}{2}\\sin (k_n x) \\cos(w_n t) - \\frac{C_n}{2}\\cos (k_n x) \\sin(w_n t)\n",
    "$$\n",
    "$$\n",
    "\\frac{C_n}{2}\\sin (k_n x) \\cos(w_n t)+ \\frac{C_n}{2}\\sin (k_n x) \\cos(w_n t)\n",
    "$$\n",
    "$$\n",
    "\\underbrace{C_n\\sin (k_n x) \\cos(w_n t)}_{\\text{standing wave}}\n",
    "$$"
   ]
  }
 ],
 "metadata": {
  "language_info": {
   "name": "python"
  },
  "orig_nbformat": 4
 },
 "nbformat": 4,
 "nbformat_minor": 2
}
