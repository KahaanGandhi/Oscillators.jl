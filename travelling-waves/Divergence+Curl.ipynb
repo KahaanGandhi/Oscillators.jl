{
 "cells": [
  {
   "attachments": {},
   "cell_type": "markdown",
   "metadata": {},
   "source": [
    "Although divergence and curl are typically taken in the context of electricity, magnetism, phase flow, or Stoke's theorem, it's helpful to conceptualize them through the analogy of fluid flow (borrowing analogies from [3B1B](https://www.youtube.com/watch?v=rB83DpBJQsE&ab_channel=3Blue1Brown)). Consider a vector field $F$, where each vector represents the velocity of the fluid at that point.T he divergence of that field at some point measures how much this imagined fluid flows out of, or into, the small regions near it. The divergence at points that act like \"sources of fluid\", with vectors pointing away from it (perhaps a positive charge), will give a positive number. If, in a small region around the point, fluid seems to \"flow into\" the point, with more vectors pointing towards it (perhaps a negative charge), the divergence will give a negative number. \n",
    "\n",
    "For the curl of the same vector field, now consider how much fluid in nearby regions tends to rotate around it. Imagine dropping a small stick into the imaginary fluid, fixing the middle at the point in question. A positive curl means that the stick would rotate counterclockwise, while a negative curl means the stick would rotate clockwise. Note that this only considers the net influence of all nearby vectors, so all vectors don't have to point in the same direction to have a non-zero curl. \n",
    "\n",
    "<div style=\"text-align: center;\">\n",
    "    <img src=\"/Users/kahaan/Desktop/Computational Physics/PendulumSolvers.jl/images/divA.jpg\" width=\"70%\" />\n",
    "    <img src=\"/Users/kahaan/Desktop/Computational Physics/PendulumSolvers.jl/images/curlA.jpg\" width=\"70%\" />\n",
    "</div>\n",
    "\n",
    "When calculating, the following notation is traditionally used:\n",
    "$$\n",
    "\\text{div} F = \\nabla \\cdot F = \\begin{bmatrix} \\frac{\\partial}{\\partial x} \\\\ \\frac{\\partial}{\\partial y}\\end{bmatrix} \\cdot \\begin{bmatrix} F_x \\\\ F_y \\end{bmatrix} = \\frac{\\partial F_x}{\\partial x} + \\frac{\\partial F_y}{\\partial y}\n",
    "$$\n",
    "$$\n",
    "\\text{curl} F = \\nabla \\times F = \\begin{bmatrix} \\frac{\\partial}{\\partial x} \\\\ \\frac{\\partial}{\\partial y}\\end{bmatrix} \\times \\begin{bmatrix} F_x \\\\ F_y \\end{bmatrix} = \\frac{\\partial F_y}{\\partial x} - \\frac{\\partial F_x}{\\partial y}\n",
    "$$\n",
    "Extending our fluid analogy, we can understand why divergence is represented by a dot product while curl is represented by a cross product. The dot product is a measure of the alignment of two vectors, with the dot product of two identical vectors being 1 and the dot product of two perpendicular vectors being 0. In essence, divergence is an average of the dot products in every direction. If, on average, stepping in a certain direction results in encountering a vector pointing in that same direction, it indicates an \"outward flow\" from the point, leading to positive divergence. Conversely, if vectors predominantly point towards the point, this \"inward flow\" results in negative divergence.\n",
    "\n",
    "Now, for the curl, consider the cross product, a measure of perpendicularity between vectors. Applying this concept, if you step in a direction, say \"up\", and find the vector at the new position pointing \"right\", this setup implies a rotation around the original point. This rotation is the essence of curl. The strength of the rotation is indicated by the magnitude of the cross product: the more perpendicular the vectors, the stronger the rotation. "
   ]
  },
  {
   "cell_type": "markdown",
   "metadata": {},
   "source": []
  }
 ],
 "metadata": {
  "language_info": {
   "name": "python"
  },
  "orig_nbformat": 4
 },
 "nbformat": 4,
 "nbformat_minor": 2
}
