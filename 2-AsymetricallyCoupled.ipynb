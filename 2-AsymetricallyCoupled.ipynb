{
 "cells": [
  {
   "cell_type": "code",
   "execution_count": null,
   "metadata": {},
   "outputs": [],
   "source": [
    "#=\n",
    "Consider the following system of 2 asymmetrically coupled pendula. \n",
    "\n",
    "  +--------+--------+\n",
    "  |                 |\n",
    "  +---||---+---||---+\n",
    "      lₐ       lᵦ   \n",
    "      ||       ||   \n",
    "      m₁---k---m₂\n",
    "\n",
    "Where:\n",
    "m₁: mass of left pendulem\n",
    "m₂: mass of right pendulem\n",
    "lₐ: length of left pendulem\n",
    "lᵦ: length of right pendulem\n",
    "k: spring constant\n",
    "=#"
   ]
  },
  {
   "attachments": {},
   "cell_type": "markdown",
   "metadata": {},
   "source": [
    "Using Newton's second law, we have 2 equations of motion for the 2 mass system:\n",
    "$$\n",
    "\\begin{aligned}\n",
    "m_1 \\ddot{x_1} = -k(x_1 - x_2) - \\frac{m_1 g}{l_a}x_1 \\\\\n",
    "m_2 \\ddot{x_2} = -k(x_2 - x_1) - \\frac{m_2 g}{l_{\\beta}}x_2\n",
    "\\end{aligned} \\Longrightarrow \\begin{aligned}\n",
    "m_1 \\ddot{x_1} = - kx_1 + kx_2 - \\frac{m_1 g}{l_a}x_1 \\\\\n",
    "m_2 \\ddot{x_2} = - kx_2 + kx_1 - \\frac{m_2 g}{l_{\\beta}}x_2\n",
    "\\end{aligned} \\Longrightarrow \\begin{aligned}\n",
    "\\ddot{x_1} = - \\frac{k}{m_1}x_1 + \\frac{k}{m_1}x_2 - \\frac{g}{l_a}x_1 \\\\\n",
    "\\ddot{x_2} = - \\frac{k}{m_2}x_2 + \\frac{k}{m_2}x_1 - \\frac{g}{l_{\\beta}}x_2\n",
    "\\end{aligned} \n",
    "$$\n",
    "$$\n",
    "\\begin{aligned}\n",
    "\\ddot{x_1} = \\left(- \\frac{k}{m_1} - \\frac{g}{l_a}\\right)x_1 + \\left(\\frac{k}{m_1}\\right)x_2 \\\\\n",
    "\\ddot{x_2} = \\left(\\frac{k}{m_2}\\right)x_1 + \\left(- \\frac{k}{m_2} - \\frac{g}{l_{\\beta}}\\right)x_2\n",
    "\\end{aligned} \n",
    "$$\n",
    "We make the ansatz $ x_j = x_j^0 e^{i \\omega t}$, where mass index $j = (1,2)$ since we have two masses and the $^0$ superscript indicates initial position. Differentiating, \n",
    "$$\n",
    "\\begin{aligned}\n",
    "x_j &= x_j^0 e^{i \\omega t} \\\\\n",
    "\\dot{x_j} &= i \\omega x_j^0 e^{i \\omega t} \\\\\n",
    "\\ddot{x_j}&= -\\omega^2 x_j^0 e^{i \\omega t}\n",
    "\\end{aligned}\n",
    "$$\n",
    "Substituting into the equation motions,\n",
    "\n",
    "$$ \n",
    "\\begin{aligned}\n",
    "-\\omega^2 x_1^0 e^{i \\omega t} &= \\left(- \\frac{k}{m_1} - \\frac{g}{l_a}\\right)x_1^0 e^{i \\omega t} + \\left(\\frac{k}{m_1}\\right)x_2^0 e^{i \\omega t} \\\\\n",
    "-\\omega^2 x_2^0 e^{i \\omega t} &= \\left(\\frac{k}{m_2}\\right) x_1^0 e^{i \\omega t} + \\left(- \\frac{k}{m_2} - \\frac{g}{l_{\\beta}}\\right)x_2^0 e^{i \\omega t} \n",
    "\\end{aligned}\n",
    "$$\n",
    "\n",
    "This leads to:\n",
    "\n",
    "$$\n",
    "\\begin{aligned}\n",
    "-\\omega^2 x_1^0 &= \\left(- \\frac{k}{m_1} - \\frac{g}{l_a}\\right)x_1^0  + \\left(\\frac{k}{m_1}\\right)x_2^0 \\\\\n",
    "-\\omega^2 x_2^0 &= \\left(\\frac{k}{m_2}\\right)x_1^0  + \\left(- \\frac{k}{m_2} - \\frac{g}{l_{\\beta}}\\right)x_2^0 \n",
    "\\end{aligned}\n",
    "$$\n",
    "\n",
    "Casting the system into matrix form,\n",
    "\n",
    "$$\n",
    "-\\omega^2 \\vec{x} = \\begin{bmatrix}\n",
    "- \\frac{k}{m_1} - \\frac{g}{l_a} & \\frac{k}{m_1} \\\\\n",
    "\\frac{k}{m_2} & - \\frac{k}{m_2} - \\frac{g}{l_{\\beta}}\n",
    "\\end{bmatrix} \\vec{x}\n",
    "$$\n",
    "\n",
    "With numerical values, we can calculate the eigenvalues and corresponding eigenvectors for this matrix. Let $m_1 = 1$ kg, $m_2 = 2$ kg, $l_a = 1$ m, $ l_\\beta = 1 $ m, $ k = 1 $ N/m, and $ g = 10 $ m/s².\n"
   ]
  },
  {
   "cell_type": "code",
   "execution_count": 7,
   "metadata": {},
   "outputs": [
    {
     "data": {
      "text/plain": [
       "2×2 Matrix{Float64}:\n",
       " -11.0    1.0\n",
       "   0.5  -10.5"
      ]
     },
     "metadata": {},
     "output_type": "display_data"
    },
    {
     "name": "stdout",
     "output_type": "stream",
     "text": [
      "NORMAL MODE 1\n",
      "Eigenvalue: -11.5\n"
     ]
    },
    {
     "name": "stdout",
     "output_type": "stream",
     "text": [
      "Eigenvector: [-0.894, 0.447]\n",
      "\n",
      "NORMAL MODE 2\n",
      "Eigenvalue: -10.0\n",
      "Eigenvector: [-0.707, -0.707]\n",
      "\n"
     ]
    }
   ],
   "source": [
    "using LinearAlgebra\n",
    "\n",
    "m₁ = 1\n",
    "m₂ = 2\n",
    "lₐ = 1\n",
    "lᵦ = 1\n",
    "k = 1\n",
    "g = 10\n",
    "\n",
    "A11 = - (k / m₁) - (g / lₐ)\n",
    "A12 = k / m₁\n",
    "A21 = k / m₂\n",
    "A22 = - (k / m₂) - (g / lᵦ)\n",
    "\n",
    "A = [A11 A12\n",
    "     A21 A22]\n",
    "\n",
    "display(A)\n",
    "eigenvalues, eigenvectors = eigen(A)\n",
    "\n",
    "for i in 1:2\n",
    "    println(\"NORMAL MODE \", i)\n",
    "    println(\"Eigenvalue: \", round(eigenvalues[i], digits = 3))\n",
    "    println(\"Eigenvector: \", round.(eigenvectors[:, i], digits = 3))\n",
    "    println()\n",
    "end"
   ]
  },
  {
   "attachments": {},
   "cell_type": "markdown",
   "metadata": {},
   "source": [
    "Other symbolic algebra programs might output $|e_2\\rangle$ = [0.707, 0.707], which represents the same eigendirection."
   ]
  }
 ],
 "metadata": {
  "kernelspec": {
   "display_name": "Julia 1.8.5",
   "language": "julia",
   "name": "julia-1.8"
  },
  "language_info": {
   "file_extension": ".jl",
   "mimetype": "application/julia",
   "name": "julia",
   "version": "1.8.5"
  },
  "orig_nbformat": 4
 },
 "nbformat": 4,
 "nbformat_minor": 2
}
