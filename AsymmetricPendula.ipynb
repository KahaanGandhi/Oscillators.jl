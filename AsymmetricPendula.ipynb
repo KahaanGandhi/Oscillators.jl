{
 "cells": [
  {
   "attachments": {},
   "cell_type": "markdown",
   "metadata": {},
   "source": [
    "Using Newton's second law, we set up equations of motion for each pendulum and isolate acceleration terms:\n",
    "\n",
    "$$ m_1 \\ddot{x_1} = \\frac{-m_1 g}{l_1}x_1 + k(x_2 - x_1) \\leftrightarrow \\ddot{x_1} = \\frac{-g}{l_1}x_1 + \\frac{k}{m_1}(x_2 - x_1)$$\n",
    "$$ m_2 \\ddot{x_2} = \\frac{-m_2 g}{l_2}x_1 - k(x_2 - x_1) \\leftrightarrow \\ddot{x_2} = \\frac{-g}{l_2}x_2 - \\frac{k}{m_1}(x_2 - x_1)$$\n",
    "\n",
    "We represent the system in matrix form:\n",
    "$$\n",
    "\\begin{bmatrix}\n",
    "\\ddot{x}_1 \\\\\n",
    "\\ddot{x}_2\n",
    "\\end{bmatrix}\n",
    "= - \n",
    "\\begin{bmatrix}\n",
    "\\frac{k}{m_1} + \\frac{g}{l_1} & -\\frac{k}{m_1} \\\\\n",
    "-\\frac{k}{m_2} & \\frac{k}{m_2} + \\frac{g}{l_2}\n",
    "\\end{bmatrix}\n",
    "\\begin{bmatrix}\n",
    "x_1 \\\\\n",
    "x_2\n",
    "\\end{bmatrix}\n",
    "$$\n",
    "\n",
    "The eigenvalues correspond to the angular frequencies of the system's normal modes. We determine the normal mode frequencies by creating and solving the characteristic equation:\n",
    "\n",
    "$$\n",
    "\\text{det}\n",
    "\\left(\n",
    "\\begin{bmatrix}\n",
    "\\frac{k}{m_1} + \\frac{g}{l_1} - \\omega^2 & -\\frac{k}{m_1} \\\\\n",
    "-\\frac{k}{m_2} & \\frac{k}{m_2} + \\frac{g}{l_2} - \\omega^2\n",
    "\\end{bmatrix}\n",
    "\\right) = 0\n",
    "$$"
   ]
  },
  {
   "cell_type": "code",
   "execution_count": 50,
   "metadata": {},
   "outputs": [
    {
     "name": "stdout",
     "output_type": "stream",
     "text": [
      "Calculated Values:\n",
      "ω₁: 3.75\n",
      "ω₂: 4.96\n",
      "ReC₁: 0.1\n",
      "ReC₂: -0.01\n",
      "ImC₁: -0.0\n",
      "ImC₂: -0.0\n",
      "A₁: 0.1\n",
      "A₂: 0.01\n",
      "ϕ₁: 3.14\n",
      "ϕ₂: 3.14\n",
      "\n",
      "At t = 0s, calculated x(t) is [-0.098, -0.013], which does NOT agree with given x₀, of [0.09, 0.045]\n",
      "At t = 5.3s, calculated x(t) is [-0.05, -0.007]\n"
     ]
    }
   ],
   "source": [
    "m₁ = 2.5\n",
    "m₂ = 5.0\n",
    "l₁ = 0.90\n",
    "l₂ = 0.45\n",
    "g = 9.81\n",
    "k = 10\n",
    "x₀ = [0.09; 0.045]\n",
    "v₀ = [0; 0]\n",
    "t = 5.3\n",
    "\n",
    "\n",
    "using LinearAlgebra\n",
    "\n",
    "NearZero(x) = abs(x) < 1e-12 ? 0.0 : x\n",
    "PhaseShift(Re, Im) =  Re < 1 ? atan(Im/Re) + π : atan(Im/Re)\n",
    "\n",
    "function solve_EoM(m₁, m₂, l₁, l₂, g, k, x₀, v₀, t)\n",
    "\n",
    "     A = [(k/m₁ + g/l₁) -k/m₁;\n",
    "          -k/m₂ (k/m₂ + g/l₂)]\n",
    "\n",
    "     e₁ = eigen(A).vectors[:, 1]\n",
    "     e₂ = eigen(A).vectors[:, 2]\n",
    "     e₁ = e₁[1] > 0 ? e₁ : -e₁\n",
    "     e₂ = e₂[1] > 0 ? e₂ : -e₂\n",
    "     ω₁ = √eigen(A).values[1]\n",
    "     ω₂ = √eigen(A).values[2]\n",
    "     \n",
    "     ReC₁ = e₁ ⋅ x₀\n",
    "     ReC₂ = e₂ ⋅ x₀\n",
    "     ImC₁ = (-1/ω₁) * (e₁ ⋅ v₀)\n",
    "     ImC₂ = (-1/ω₂) * (e₂ ⋅ v₀)\n",
    "\n",
    "#     for value in [ReC₁,ReC₂,ImC₁,ImC₂, e₁ , e₂]\n",
    "#          value = NearZero(value)\n",
    "#     end\n",
    "\n",
    "     A₁ = √(ReC₁^2 + ImC₁^2)\n",
    "     A₂ = √(ReC₂^2 + ImC₂^2)\n",
    "     ϕ₁ = NearZero(PhaseShift(ReC₁,ImC₁))\n",
    "     ϕ₂ = NearZero(PhaseShift(ReC₂,ImC₂))\n",
    "\n",
    "     println(\"Calculated Values:\")\n",
    "     varNames = [\"ω₁\", \"ω₂\", \"ReC₁\", \"ReC₂\", \"ImC₁\", \"ImC₂\", \"A₁\", \"A₂\", \"ϕ₁\", \"ϕ₂\"]\n",
    "     varValues = [ω₁, ω₂, ReC₁, ReC₂, ImC₁, ImC₂, A₁, A₂, ϕ₁, ϕ₂]\n",
    "     for i in 1:10\n",
    "          println(varNames[i], \": \", round(varValues[i],digits=2))\n",
    "     end\n",
    "\n",
    "     x₁(t) = A₁ * cos(ω₁ * t + ϕ₁) * e₁[1] + A₂ * cos(ω₂ * t + ϕ₂) * e₂[1]\n",
    "     x₂(t) = A₁ * cos(ω₁ * t + ϕ₁) * e₁[2] + A₂ * cos(ω₂ * t + ϕ₂) * e₂[2]\n",
    "\n",
    "     InitialPositionVector = [round(x₁(0), digits=3); round(x₂(0), digits=3)]\n",
    "     LaterPositionVector = [round(x₁(t), digits=3); round(x₂(t), digits=3)]\n",
    "     initial_positions_agree = all(isapprox.(InitialPositionVector, x₀, atol=1e-12))\n",
    "\n",
    "     println(\"\\nAt t = 0s, calculated x(t) is $InitialPositionVector\" * \n",
    "     (initial_positions_agree ? \", which agrees with given x₀\" : \", which does NOT agree with given x₀\") * \", of $x₀\")\n",
    "     println(\"At t = \" * string(t) * \"s, calculated x(t) is \" * string(LaterPositionVector))\n",
    "end\n",
    "\n",
    "solve_EoM(m₁, m₂, l₁, l₂, g, k, x₀, v₀, t)"
   ]
  },
  {
   "cell_type": "code",
   "execution_count": 65,
   "metadata": {},
   "outputs": [
    {
     "name": "stderr",
     "output_type": "stream",
     "text": [
      "\u001b[32m\u001b[1m    Updating\u001b[22m\u001b[39m registry at `~/.julia/registries/General.toml`\n",
      "\u001b[32m\u001b[1m   Resolving\u001b[22m\u001b[39m package versions...\n"
     ]
    },
    {
     "name": "stderr",
     "output_type": "stream",
     "text": [
      "\u001b[32m\u001b[1m  No Changes\u001b[22m\u001b[39m to `~/.julia/environments/v1.8/Project.toml`\n",
      "\u001b[32m\u001b[1m  No Changes\u001b[22m\u001b[39m to `~/.julia/environments/v1.8/Manifest.toml`\n"
     ]
    }
   ],
   "source": [
    "using Pkg\n",
    "Pkg.add(\"DifferentialEquations\")"
   ]
  },
  {
   "cell_type": "code",
   "execution_count": 70,
   "metadata": {},
   "outputs": [
    {
     "name": "stdout",
     "output_type": "stream",
     "text": [
      "Position of pendulum 1 at time t = 0: 0.22638212208219707\n",
      "Position of pendulum 2 at time t = 0: -0.07104465187358079\n"
     ]
    }
   ],
   "source": [
    "using LinearAlgebra\n",
    "\n",
    "function solve_coupled_pendulums(m1, l1, m2, l2, k, g, x01, x02, v01, v02)\n",
    "    # Create the modified stiffness matrix K'\n",
    "    K_prime = [k/m1 + g/l1 -k/m1; -k/m2 k/m2 + g/l2]\n",
    "\n",
    "    # Solve the eigenvalue problem\n",
    "    eigenvalues, V = eigen(K_prime)\n",
    "\n",
    "    # The eigenvalues correspond to ω^2, take the square root to get the frequencies\n",
    "    ω = sqrt.(eigenvalues)\n",
    "\n",
    "    # Normalize the eigenvectors\n",
    "    for i in 1:size(V, 2)\n",
    "        V[:, i] /= norm(V[:, i])\n",
    "    end\n",
    "\n",
    "    # Solve for the coefficients A and B in the general solution using the initial conditions\n",
    "    A = V \\ [x01; x02]\n",
    "    B = V \\ [v01 / ω[1]; v02 / ω[2]]\n",
    "\n",
    "    # Define the functions x1(t) and x2(t) for the displacements\n",
    "    function x1(t)\n",
    "        A[1] * cos(ω[1] * t) + B[1] * sin(ω[1] * t)\n",
    "    end\n",
    "\n",
    "    function x2(t)\n",
    "        A[2] * cos(ω[2] * t) + B[2] * sin(ω[2] * t)\n",
    "    end\n",
    "\n",
    "    return x1, x2\n",
    "end\n",
    "\n",
    "# Test the function with given parameters and initial conditions\n",
    "m1 = 1.0\n",
    "l1 = 1.0\n",
    "m2 = 1.5\n",
    "l2 = 1.2\n",
    "k = 100.0\n",
    "g = 9.81\n",
    "x01 = 0.1\n",
    "x02 = 0.2\n",
    "v01 = 0.0\n",
    "v02 = 0.0\n",
    "\n",
    "x1, x2 = solve_coupled_pendulums(m1, l1, m2, l2, k, g, x01, x02, v01, v02)\n",
    "\n",
    "# Example evaluation at t = 1.0 second\n",
    "t = 0\n",
    "println(\"Position of pendulum 1 at time t = $t: \", x1(t))\n",
    "println(\"Position of pendulum 2 at time t = $t: \", x2(t))"
   ]
  },
  {
   "cell_type": "code",
   "execution_count": null,
   "metadata": {},
   "outputs": [],
   "source": []
  }
 ],
 "metadata": {
  "kernelspec": {
   "display_name": "Julia 1.8.5",
   "language": "julia",
   "name": "julia-1.8"
  },
  "language_info": {
   "file_extension": ".jl",
   "mimetype": "application/julia",
   "name": "julia",
   "version": "1.8.5"
  },
  "orig_nbformat": 4
 },
 "nbformat": 4,
 "nbformat_minor": 2
}
