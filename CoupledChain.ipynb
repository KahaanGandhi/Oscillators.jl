{
 "cells": [
  {
   "attachments": {},
   "cell_type": "markdown",
   "metadata": {},
   "source": [
    "Consider $\\underline{three}$ masses coupled by four springs. Using Newton's second law, \n",
    "$$\n",
    "\\begin{aligned}\n",
    "F_1 = -2kx_1 + kx_2 &\\rightarrow m\\ddot{x_1} + 2kx_1 - kx_2 = 0 \\\\\n",
    "F_2 = kx_1 - 2kx_2 + kx_3 &\\rightarrow m\\ddot{x_2} + 2kx_2 - kx_1 - kx_3 = 0 \\\\\n",
    "F_3 = kx_2 - 2kx_3 &\\rightarrow m\\ddot{x_3} + 2kx_3 - kx_2 = 0\n",
    "\\end{aligned}\n",
    "$$\n",
    "We make the ansatz\n",
    "$$\n",
    "\\vec{x} = \\begin{bmatrix} x_1^0 \\\\ x_2^0 \\\\ x_3 ^0 \\end{bmatrix} e^{i \\omega t}\n",
    "$$\n",
    "The equations of motion become\n",
    "$$\n",
    "-\\omega^2 \\vec{x} = \\omega_0^2 \\begin{bmatrix} -2 & 1 & 0 \\\\ 1 &-2  &1 \\\\ 0 & 1 & -2 \\end{bmatrix}\\vec{x}, \\text{ where } \\omega_0 = \\sqrt{\\frac{k}{m}}.\n",
    "$$\n",
    "The eigenvalues of this matrix correspond to the square of normal mode frequencies. We find the eigenvalues and eigenvectors \n",
    "$$\n",
    "\\begin{aligned}\n",
    "\\omega_1 = \\omega_0 \\sqrt{2-\\sqrt{2}} &\\rightarrow e_1 = \\begin{bmatrix} 1 \\\\ \\sqrt{2} \\\\ 1 \\end{bmatrix} \\\\\n",
    "\\omega_3 = \\omega_0 \\sqrt{2+\\sqrt{2}} &\\rightarrow e_2 = \\begin{bmatrix} 1 \\\\ -\\sqrt{2} \\\\ 1 \\end{bmatrix} \\\\\n",
    "\\omega_2 = \\omega_0 \\sqrt{2} &\\rightarrow e_3 = \\begin{bmatrix} -1 \\\\ 0\\\\ 1 \\end{bmatrix}\n",
    "\\end{aligned}\n",
    "$$"
   ]
  },
  {
   "cell_type": "code",
   "execution_count": 36,
   "metadata": {},
   "outputs": [
    {
     "name": "stdout",
     "output_type": "stream",
     "text": [
      "x₁(t) = 5.23cos(1.53t + -0.84) + 2.18cos(2.83t + 2.91) + 3.66cos(3.7t + 0.3)\n",
      "x₂(t) = 5.23cos(1.53t + -0.84) + 2.18cos(2.83t + 2.91) - 3.66cos(3.7t + 0.3)\n",
      "x₃(t) = 5.23cos(1.53t + -0.84) - 2.18cos(2.83t + 2.91) + 3.66cos(3.7t + 0.3)\n",
      "At t = 0s, calculated x(t) is [[5.0, 0.0, 2.0]], which agrees with given x₀ of [5, 0, 2]\n",
      "At t = 4s, x(t) = [0.07, 4.1, -0.19]\n"
     ]
    }
   ],
   "source": [
    "using LinearAlgebra\n",
    "\n",
    "x₀ = [5; 0; 2]\n",
    "v₀ = [2; 7; 0]\n",
    "m = 2.5\n",
    "l = 0.45\n",
    "k = 10\n",
    "t = 4\n",
    "\n",
    "function solve_three_EoMs(x₀,v₀,m,l,k,t)\n",
    "\n",
    "    ω₀ = √(k/m)\n",
    "    A = [ 1 -1  1; √2  0 -√2; 1  1  1]\n",
    "    e₁ = A[:, 1]; e₂ = A[:, 2]; e₃ = A[:, 3] \n",
    "\n",
    "    e₁ /= norm(e₁); ω₁ = ω₀ * √(2 - √2)\n",
    "    e₂ /= norm(e₂); ω₂ = ω₀ * √2\n",
    "    e₃ /= norm(e₃); ω₃ = ω₀ * √(2 + √2)\n",
    "\n",
    "    ReC₁ = dot(e₁,x₀); ImC₁ = (-1/ω₁) * dot(e₁,v₀)\n",
    "    ReC₂ = dot(e₂,x₀); ImC₂ = (-1/ω₂) * dot(e₂,v₀)\n",
    "    ReC₃ = dot(e₃,x₀); ImC₃ = (-1/ω₃) * dot(e₃,v₀)\n",
    "\n",
    "    A₁ = √(ReC₁^2 + ImC₁^2); ϕ₁ = atan(ImC₁, ReC₁)\n",
    "    A₂ = √(ReC₂^2 + ImC₂^2); ϕ₂ = atan(ImC₂, ReC₂)\n",
    "    A₃ = √(ReC₃^2 + ImC₃^2); ϕ₃ = atan(ImC₃, ReC₃)\n",
    "\n",
    "    x(t) = A₁*cos(ω₁*t + ϕ₁)*e₁ + A₂*cos(ω₂*t + ϕ₂)*e₂ + A₃*cos(ω₃*t + ϕ₃)*e₃\n",
    "\n",
    "    A₁_RND = round(A₁, digits=2); ω₁_RND = round(ω₁, digits=2); ϕ₁_RND = round(ϕ₁, digits=2)\n",
    "    A₂_RND = round(A₂, digits=2); ω₂_RND = round(ω₂, digits=2); ϕ₂_RND = round(ϕ₂, digits=2)\n",
    "    A₃_RND = round(A₃, digits=2); ω₃_RND = round(ω₃, digits=2); ϕ₃_RND = round(ϕ₃, digits=2)\n",
    "\n",
    "    println(\"x₁(t) = $(A₁_RND)cos($(ω₁_RND)t + $(ϕ₁_RND)) + $(A₂_RND)cos($(ω₂_RND)t + $(ϕ₂_RND)) + $(A₃_RND)cos($(ω₃_RND)t + $(ϕ₃_RND))\")\n",
    "    println(\"x₂(t) = $(A₁_RND)cos($(ω₁_RND)t + $(ϕ₁_RND)) + $(A₂_RND)cos($(ω₂_RND)t + $(ϕ₂_RND)) - $(A₃_RND)cos($(ω₃_RND)t + $(ϕ₃_RND))\")\n",
    "    println(\"x₃(t) = $(A₁_RND)cos($(ω₁_RND)t + $(ϕ₁_RND)) - $(A₂_RND)cos($(ω₂_RND)t + $(ϕ₂_RND)) + $(A₃_RND)cos($(ω₃_RND)t + $(ϕ₃_RND))\")\n",
    "    \n",
    "    println(\"At t = 0s, calculated x(t) is [$(round.(position_at_t0, digits=2))], which \", x(0) ≈ x₀ ? \"agrees\" : \"does NOT agree\", \" with given x₀ of \", x₀)\n",
    "    println(\"At t = \", t, \"s, x(t) = \", round.(x(t), digits=2))\n",
    "\n",
    "end\n",
    "\n",
    "solveEoMs(x₀,v₀,m,l,k,t)"
   ]
  }
 ],
 "metadata": {
  "kernelspec": {
   "display_name": "Julia 1.8.5",
   "language": "julia",
   "name": "julia-1.8"
  },
  "language_info": {
   "file_extension": ".jl",
   "mimetype": "application/julia",
   "name": "julia",
   "version": "1.8.5"
  },
  "orig_nbformat": 4
 },
 "nbformat": 4,
 "nbformat_minor": 2
}
