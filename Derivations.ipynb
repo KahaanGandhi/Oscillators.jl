{
 "cells": [
  {
   "attachments": {},
   "cell_type": "markdown",
   "metadata": {},
   "source": [
    "Consider $\\underline{three}$ masses coupled by four springs. Using Newton's second law, \n",
    "$$\n",
    "\\begin{aligned}\n",
    "F_1 = -2kx_1 + kx_2 &\\rightarrow m\\ddot{x_1} + 2kx_1 - kx_2 = 0 \\\\\n",
    "F_2 = kx_1 - 2kx_2 + kx_3 &\\rightarrow m\\ddot{x_2} + 2kx_2 - kx_1 - kx_3 = 0 \\\\\n",
    "F_3 = kx_2 - 2kx_3 &\\rightarrow m\\ddot{x_3} + 2kx_3 - kx_2 = 0\n",
    "\\end{aligned}\n",
    "$$\n",
    "We make the ansatz\n",
    "$$\n",
    "\\vec{x} = \\begin{bmatrix} x_1^0 \\\\ x_2^0 \\\\ x_3 ^0 \\end{bmatrix} e^{i \\omega t}\n",
    "$$\n",
    "The equations of motion become\n",
    "$$\n",
    "-\\omega^2 \\vec{x} = \\omega_0^2 \\begin{bmatrix} -2 & 1 & 0 \\\\ 1 &-2  &1 \\\\ 0 & 1 & -2 \\end{bmatrix}\\vec{x}, \\text{ where } \\omega_0 = \\sqrt{\\frac{k}{m}}.\n",
    "$$\n",
    "The eigenvalues of this matrix correspond to the square of normal mode frequencies. We find the eigenvalues and eigenvectors \n",
    "$$\n",
    "\\begin{aligned}\n",
    "\\omega_1 = \\omega_0 \\sqrt{2-\\sqrt{2}} &\\rightarrow e_1 = \\begin{bmatrix} 1 \\\\ \\sqrt{2} \\\\ 1 \\end{bmatrix} \\\\\n",
    "\\omega_3 = \\omega_0 \\sqrt{2+\\sqrt{2}} &\\rightarrow e_2 = \\begin{bmatrix} 1 \\\\ -\\sqrt{2} \\\\ 1 \\end{bmatrix} \\\\\n",
    "\\omega_2 = \\omega_0 \\sqrt{2} &\\rightarrow e_3 = \\begin{bmatrix} -1 \\\\ 0\\\\ 1 \\end{bmatrix}\n",
    "\\end{aligned}\n",
    "$$\n"
   ]
  },
  {
   "attachments": {},
   "cell_type": "markdown",
   "metadata": {},
   "source": [
    "We can generalize a tridiagonal matrix for N identical masses coupled by N+1 identical springs:\n",
    "$$\n",
    "A_{N \\times N} = \\begin{bmatrix}\n",
    "-2 & 1 & 0 & \\cdots & 0 \\\\\n",
    "1 & -2 & 1 & \\cdots & 0 \\\\\n",
    "0 & 1 & -2 & \\ddots & \\vdots \\\\\n",
    "\\vdots & \\vdots & \\ddots & \\ddots & 1 \\\\\n",
    "0 & 0 & \\cdots & 1 & -2\n",
    "\\end{bmatrix}\n",
    "$$"
   ]
  },
  {
   "attachments": {},
   "cell_type": "markdown",
   "metadata": {},
   "source": []
  }
 ],
 "metadata": {
  "language_info": {
   "name": "python"
  },
  "orig_nbformat": 4
 },
 "nbformat": 4,
 "nbformat_minor": 2
}
